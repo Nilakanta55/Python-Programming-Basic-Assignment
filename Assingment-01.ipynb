{
 "cells": [
  {
   "cell_type": "markdown",
   "id": "8cf0a70f",
   "metadata": {},
   "source": [
    "### 1.\tWrite a Python program to print \"Hello Python\"?"
   ]
  },
  {
   "cell_type": "code",
   "execution_count": 1,
   "id": "7308613a",
   "metadata": {},
   "outputs": [
    {
     "name": "stdout",
     "output_type": "stream",
     "text": [
      "hello python\n"
     ]
    }
   ],
   "source": [
    "#Q1 Write a Python program to print \"Hello Python\"?\n",
    "print(\"hello python\") "
   ]
  },
  {
   "cell_type": "code",
   "execution_count": null,
   "id": "075445fc",
   "metadata": {},
   "outputs": [],
   "source": []
  },
  {
   "cell_type": "code",
   "execution_count": null,
   "id": "fb9d0085",
   "metadata": {},
   "outputs": [],
   "source": []
  },
  {
   "cell_type": "markdown",
   "id": "1fb12191",
   "metadata": {},
   "source": [
    "### 2.\tWrite a Python program to do arithmetical operations addition and division.?"
   ]
  },
  {
   "cell_type": "code",
   "execution_count": 2,
   "id": "ff55472f",
   "metadata": {},
   "outputs": [
    {
     "name": "stdout",
     "output_type": "stream",
     "text": [
      "Enter first number: 25\n",
      "Enter second number: 65\n",
      "The sum of 25 and 65 is 90.0\n",
      "The subtraction of 25 and 65 is -40.0\n",
      "The multiplication of 25 and 65 is 1625.0\n",
      "The division of 25 and 65 is 0.38461538461538464\n"
     ]
    }
   ],
   "source": [
    "# Store input numbers:  \n",
    "num1 = input('Enter first number: ')  \n",
    "num2 = input('Enter second number: ')  \n",
    "  \n",
    "# Add two numbers  \n",
    "sum = float(num1) + float(num2)  \n",
    "# Subtract two numbers  \n",
    "min = float(num1) - float(num2)  \n",
    "# Multiply two numbers  \n",
    "mul = float(num1) * float(num2)  \n",
    "#Divide two numbers  \n",
    "div = float(num1) / float(num2)  \n",
    "# Display the sum  \n",
    "print('The sum of {0} and {1} is {2}'.format(num1, num2, sum))  \n",
    "  \n",
    "# Display the subtraction  \n",
    "print('The subtraction of {0} and {1} is {2}'.format(num1, num2, min))  \n",
    "# Display the multiplication  \n",
    "print('The multiplication of {0} and {1} is {2}'.format(num1, num2, mul))  \n",
    "# Display the division  \n",
    "print('The division of {0} and {1} is {2}'.format(num1, num2, div))  "
   ]
  },
  {
   "cell_type": "code",
   "execution_count": null,
   "id": "fc3407dd",
   "metadata": {},
   "outputs": [],
   "source": []
  },
  {
   "cell_type": "code",
   "execution_count": null,
   "id": "f421a3e6",
   "metadata": {},
   "outputs": [],
   "source": []
  },
  {
   "cell_type": "markdown",
   "id": "e2a9969a",
   "metadata": {},
   "source": [
    "### 3.\tWrite a Python program to find the area of a triangle?"
   ]
  },
  {
   "cell_type": "markdown",
   "id": "d93c0ca8",
   "metadata": {},
   "source": [
    "In this program, you'll learn to calculate the area of a triangle and display it\n",
    "\n",
    "If a, b and c are three sides of a triangle. Then,"
   ]
  },
  {
   "cell_type": "code",
   "execution_count": 4,
   "id": "91413885",
   "metadata": {},
   "outputs": [
    {
     "name": "stdout",
     "output_type": "stream",
     "text": [
      "Enter first side: 5\n",
      "Enter second side: 6\n",
      "Enter third side: 7\n",
      "The area of the triangle is 14.70\n"
     ]
    }
   ],
   "source": [
    "# Three sides of the triangle is a, b and c:  \n",
    "a = float(input('Enter first side: '))  \n",
    "b = float(input('Enter second side: '))  \n",
    "c = float(input('Enter third side: '))  \n",
    "  \n",
    "# calculate the semi-perimeter  \n",
    "s = (a + b + c) / 2  \n",
    "  \n",
    "# calculate the area  \n",
    "area = (s*(s-a)*(s-b)*(s-c)) ** 0.5  \n",
    "print('The area of the triangle is %0.2f' %area)   "
   ]
  },
  {
   "cell_type": "markdown",
   "id": "2ee36ade",
   "metadata": {},
   "source": [
    "Explanation -\n",
    "\n",
    "We take the input as three sides of a triangle and store them in three variables a, b, and c. Then, we have calculated the semi-perimeter of the triangle and put this value in the triangle's area formula."
   ]
  },
  {
   "cell_type": "code",
   "execution_count": null,
   "id": "bd037ce9",
   "metadata": {},
   "outputs": [],
   "source": []
  },
  {
   "cell_type": "code",
   "execution_count": null,
   "id": "92d2bbd1",
   "metadata": {},
   "outputs": [],
   "source": []
  },
  {
   "cell_type": "markdown",
   "id": "36c08f6a",
   "metadata": {},
   "source": [
    "### 4.\tWrite a Python program to swap two variables?"
   ]
  },
  {
   "cell_type": "markdown",
   "id": "63b77667",
   "metadata": {},
   "source": [
    "Given two variables x and y, write a Python program to swap their values. Let’s see different methods in Python to do this task. \n",
    "\n",
    "Using the comma operator the value of variables can be swapped without using a third variable."
   ]
  },
  {
   "cell_type": "code",
   "execution_count": 5,
   "id": "c7313435",
   "metadata": {},
   "outputs": [
    {
     "name": "stdout",
     "output_type": "stream",
     "text": [
      "Value of x: 50\n",
      "Value of y: 10\n"
     ]
    }
   ],
   "source": [
    "# Python program to demonstrate\n",
    "# swapping of two variables\n",
    "\n",
    "\n",
    "x = 10\n",
    "y = 50\n",
    "\n",
    "# Swapping of two variables\n",
    "# without using third variable\n",
    "x, y = y, x\n",
    "\n",
    "print(\"Value of x:\", x)\n",
    "print(\"Value of y:\", y)\n"
   ]
  },
  {
   "cell_type": "code",
   "execution_count": null,
   "id": "6f83d6fd",
   "metadata": {},
   "outputs": [],
   "source": []
  },
  {
   "cell_type": "code",
   "execution_count": null,
   "id": "d8d9aecf",
   "metadata": {},
   "outputs": [],
   "source": []
  },
  {
   "cell_type": "markdown",
   "id": "660ebea6",
   "metadata": {},
   "source": [
    "### 5.\tWrite a Python program to generate a random number?"
   ]
  },
  {
   "cell_type": "markdown",
   "id": "5b896d91",
   "metadata": {},
   "source": [
    "Python defines a set of functions that are used to generate or manipulate random numbers through the random module. Functions in the random module rely on a pseudo-random number generator function random(), which generates a random float number between 0.0 and 1.0. These particular type of functions is used in a lot of games, lotteries, or any application requiring a random number generation."
   ]
  },
  {
   "cell_type": "code",
   "execution_count": 6,
   "id": "258cfcc7",
   "metadata": {},
   "outputs": [
    {
     "name": "stdout",
     "output_type": "stream",
     "text": [
      "The list before shuffling is : 1 4 5 10 2 \r\n",
      "The list after shuffling is : 1 4 2 5 10 \r\n",
      "The random floating point number between 5 and 10 is : 5.505725847481316\n"
     ]
    }
   ],
   "source": [
    "# Python code to demonstrate the working of\n",
    "# shuffle() and uniform()\n",
    "\n",
    "# importing \"random\" for random operations\n",
    "import random\n",
    "\n",
    "# Initializing list\n",
    "li = [1, 4, 5, 10, 2]\n",
    "\n",
    "# Printing list before shuffling\n",
    "print(\"The list before shuffling is : \", end=\"\")\n",
    "for i in range(0, len(li)):\n",
    "\tprint(li[i], end=\" \")\n",
    "print(\"\\r\")\n",
    "\n",
    "# using shuffle() to shuffle the list\n",
    "random.shuffle(li)\n",
    "\n",
    "# Printing list after shuffling\n",
    "print(\"The list after shuffling is : \", end=\"\")\n",
    "for i in range(0, len(li)):\n",
    "\tprint(li[i], end=\" \")\n",
    "print(\"\\r\")\n",
    "\n",
    "# using uniform() to generate random floating number in range\n",
    "# prints number between 5 and 10\n",
    "print(\"The random floating point number between 5 and 10 is : \", end=\"\")\n",
    "print(random.uniform(5, 10))\n"
   ]
  },
  {
   "cell_type": "code",
   "execution_count": null,
   "id": "9a099f72",
   "metadata": {},
   "outputs": [],
   "source": []
  }
 ],
 "metadata": {
  "kernelspec": {
   "display_name": "Python 3",
   "language": "python",
   "name": "python3"
  },
  "language_info": {
   "codemirror_mode": {
    "name": "ipython",
    "version": 3
   },
   "file_extension": ".py",
   "mimetype": "text/x-python",
   "name": "python",
   "nbconvert_exporter": "python",
   "pygments_lexer": "ipython3",
   "version": "3.8.8"
  }
 },
 "nbformat": 4,
 "nbformat_minor": 5
}
