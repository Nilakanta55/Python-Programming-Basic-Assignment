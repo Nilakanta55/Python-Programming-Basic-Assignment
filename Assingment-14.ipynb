{
 "cells": [
  {
   "cell_type": "markdown",
   "id": "8cf0a70f",
   "metadata": {},
   "source": [
    "### Question 1:\n",
    "Question 1:\n",
    "\n",
    "Define a class with a generator which can iterate the numbers, which are divisible by 7, between a given range 0 and n.\n",
    "\n"
   ]
  },
  {
   "cell_type": "code",
   "execution_count": 2,
   "id": "7308613a",
   "metadata": {},
   "outputs": [
    {
     "name": "stdout",
     "output_type": "stream",
     "text": [
      "0\n",
      "7\n",
      "14\n",
      "21\n",
      "28\n",
      "35\n",
      "42\n",
      "49\n",
      "56\n",
      "63\n",
      "70\n",
      "77\n",
      "84\n",
      "91\n",
      "98\n"
     ]
    }
   ],
   "source": [
    "class iterator(object):\n",
    "\t\"\"\"docstring for iterator\"\"\"\n",
    "\tdef __init__(self, n):\n",
    "\t\tsuper(iterator, self).__init__()\n",
    "\t\tself.n = n\n",
    "\t\t\n",
    "\tdef divBySeven(self):\n",
    "\t\tfor i in range(0, self.n):\n",
    "\t\t\tif i % 7 == 0:\n",
    "\t\t\t\tyield i\n",
    "\n",
    "for num in iterator(100).divBySeven():\n",
    "\tprint (num)"
   ]
  },
  {
   "cell_type": "code",
   "execution_count": null,
   "id": "9a36b6be",
   "metadata": {},
   "outputs": [],
   "source": []
  },
  {
   "cell_type": "code",
   "execution_count": null,
   "id": "78e28e11",
   "metadata": {},
   "outputs": [],
   "source": []
  },
  {
   "cell_type": "markdown",
   "id": "1fb12191",
   "metadata": {},
   "source": [
    "### Question 2:\n",
    "Write a program to compute the frequency of the words from the input. The output should output after sorting the key alphanumerically. \n",
    "\n",
    "Suppose the following input is supplied to the program:\n",
    "\n",
    "New to Python or choosing between Python 2 and Python 3? Read Python 2 or Python 3.\n",
    "\n",
    "Then, the output should be:\n",
    "\n",
    "2:2\n",
    "\n",
    "3.:1\n",
    "\n",
    "3?:1\n",
    "\n",
    "New:1\n",
    "\n",
    "Python:5\n",
    "\n",
    "Read:1\n",
    "\n",
    "and:1\n",
    "\n",
    "between:1\n",
    "\n",
    "choosing:1\n",
    "\n",
    "or:2\n",
    "\n",
    "to:1\n"
   ]
  },
  {
   "cell_type": "code",
   "execution_count": 3,
   "id": "ff55472f",
   "metadata": {},
   "outputs": [
    {
     "name": "stdout",
     "output_type": "stream",
     "text": [
      "New to Python or choosing between Python 2 and Python 3? Read Python 2 or Python 3.\n",
      "2:2\n",
      "3.:1\n",
      "3?:1\n",
      "New:1\n",
      "Python:5\n",
      "Read:1\n",
      "and:1\n",
      "between:1\n",
      "choosing:1\n",
      "or:2\n",
      "to:1\n"
     ]
    }
   ],
   "source": [
    "ss = input().split()\n",
    "word = sorted(set(ss))     # split words are stored and sorted as a set\n",
    "\n",
    "for i in word:\n",
    "    print(\"{0}:{1}\".format(i,ss.count(i)))"
   ]
  },
  {
   "cell_type": "code",
   "execution_count": null,
   "id": "66371aff",
   "metadata": {},
   "outputs": [],
   "source": []
  },
  {
   "cell_type": "code",
   "execution_count": null,
   "id": "bd4aafc4",
   "metadata": {},
   "outputs": [],
   "source": []
  },
  {
   "cell_type": "markdown",
   "id": "e2a9969a",
   "metadata": {},
   "source": [
    "### Question 3:\n",
    "Define a class Person and its two child classes: Male and Female. All classes have a method \"getGender\" which can print \"Male\" for Male class and \"Female\" for Female class.\n",
    "\n"
   ]
  },
  {
   "cell_type": "markdown",
   "id": "6141200e",
   "metadata": {},
   "source": [
    "Hints:\n",
    "Use Subclass(Parentclass) to define a child class."
   ]
  },
  {
   "cell_type": "code",
   "execution_count": 5,
   "id": "ca76fae1",
   "metadata": {},
   "outputs": [
    {
     "name": "stdout",
     "output_type": "stream",
     "text": [
      "Male\n",
      "Female\n"
     ]
    }
   ],
   "source": [
    "class Person(object):\n",
    "    def getGender( self ):\n",
    "        return \"Unknown\"\n",
    "\n",
    "class Male( Person ):\n",
    "    def getGender( self ):\n",
    "        return \"Male\"\n",
    "\n",
    "class Female( Person ):\n",
    "    def getGender( self ):\n",
    "        return \"Female\"\n",
    "\n",
    "aMale = Male()\n",
    "aFemale= Female()\n",
    "print (aMale.getGender())\n",
    "print (aFemale.getGender())"
   ]
  },
  {
   "cell_type": "code",
   "execution_count": null,
   "id": "e1e2c2f6",
   "metadata": {},
   "outputs": [],
   "source": []
  },
  {
   "cell_type": "code",
   "execution_count": null,
   "id": "2240b442",
   "metadata": {},
   "outputs": [],
   "source": []
  },
  {
   "cell_type": "markdown",
   "id": "36c08f6a",
   "metadata": {},
   "source": [
    "### Question 4:\n",
    "Please write a program to generate all sentences where subject is in [\"I\", \"You\"] and verb is in [\"Play\", \"Love\"] and the object is in [\"Hockey\",\"Football\"].\n"
   ]
  },
  {
   "cell_type": "markdown",
   "id": "5127cecb",
   "metadata": {},
   "source": [
    "Hints:\n",
    "Use list[index] notation to get a element from a list."
   ]
  },
  {
   "cell_type": "code",
   "execution_count": 6,
   "id": "bfcee05e",
   "metadata": {},
   "outputs": [
    {
     "name": "stdout",
     "output_type": "stream",
     "text": [
      "I Play Hockey\n",
      "I Play Football\n",
      "I Love Hockey\n",
      "I Love Football\n",
      "You Play Hockey\n",
      "You Play Football\n",
      "You Love Hockey\n",
      "You Love Football\n"
     ]
    }
   ],
   "source": [
    "subjects=[\"I\", \"You\"]\n",
    "verbs=[\"Play\", \"Love\"]\n",
    "objects=[\"Hockey\",\"Football\"]\n",
    "\n",
    "for sub in subjects:\n",
    "    for verb in verbs:\n",
    "        for obj in objects:\n",
    "            print(\"{} {} {}\".format(sub,verb,obj))"
   ]
  },
  {
   "cell_type": "code",
   "execution_count": null,
   "id": "c36d106d",
   "metadata": {},
   "outputs": [],
   "source": []
  },
  {
   "cell_type": "code",
   "execution_count": null,
   "id": "91dc29ba",
   "metadata": {},
   "outputs": [],
   "source": []
  },
  {
   "cell_type": "markdown",
   "id": "b479497a",
   "metadata": {},
   "source": [
    "### Question 5:\n",
    "Please write a program to compress and decompress the string \"hello world!hello world!hello world!hello world!\".\n",
    "\n"
   ]
  },
  {
   "cell_type": "markdown",
   "id": "b1af0020",
   "metadata": {},
   "source": [
    "Hints:\n",
    "Use zlib.compress() and zlib.decompress() to compress and decompress a string."
   ]
  },
  {
   "cell_type": "code",
   "execution_count": 9,
   "id": "9838dead",
   "metadata": {},
   "outputs": [
    {
     "name": "stdout",
     "output_type": "stream",
     "text": [
      "b'x\\x9c\\xcbH\\xcd\\xc9\\xc9W(\\xcf/\\xcaIQ\\xcc \\x82\\r\\x00\\xbd[\\x11\\xf5'\n",
      "b'hello world!hello world!hello world!hello world!'\n"
     ]
    }
   ],
   "source": [
    "import zlib\n",
    "'''Solution by: anas1434 \n",
    "'''\n",
    "s = 'hello world!hello world!hello world!hello world!'\n",
    "# In Python 3 zlib.compress() accepts only DataType <bytes>\n",
    "y = bytes(s, 'utf-8')\n",
    "x = zlib.compress(y)\n",
    "print(x)\n",
    "print(zlib.decompress(x))"
   ]
  },
  {
   "cell_type": "code",
   "execution_count": null,
   "id": "56d76ecc",
   "metadata": {},
   "outputs": [],
   "source": []
  },
  {
   "cell_type": "code",
   "execution_count": null,
   "id": "71b6617e",
   "metadata": {},
   "outputs": [],
   "source": []
  },
  {
   "cell_type": "markdown",
   "id": "a8bbb8c6",
   "metadata": {},
   "source": [
    "### Question 6:\n",
    "Please write a binary search function which searches an item in a sorted list. The function should return the index of element to be searched in the list.\n"
   ]
  },
  {
   "cell_type": "code",
   "execution_count": 10,
   "id": "883984f3",
   "metadata": {},
   "outputs": [
    {
     "name": "stdout",
     "output_type": "stream",
     "text": [
      "Largest value smaller than  7  is at index  3\n"
     ]
    }
   ],
   "source": [
    "# Python code to demonstrate working\n",
    "# of binary search in library\n",
    "from bisect import bisect_left\n",
    "\n",
    "def BinarySearch(a, x):\n",
    "\ti = bisect_left(a, x)\n",
    "\tif i:\n",
    "\t\treturn (i-1)\n",
    "\telse:\n",
    "\t\treturn -1\n",
    "\n",
    "# Driver code\n",
    "a = [1, 2, 4, 4, 8]\n",
    "x = int(7)\n",
    "res = BinarySearch(a, x)\n",
    "if res == -1:\n",
    "\tprint(\"No value smaller than \", x)\n",
    "else:\n",
    "\tprint(\"Largest value smaller than \", x, \" is at index \", res)\n"
   ]
  },
  {
   "cell_type": "code",
   "execution_count": null,
   "id": "d1407d0d",
   "metadata": {},
   "outputs": [],
   "source": []
  },
  {
   "cell_type": "code",
   "execution_count": null,
   "id": "1fdafca9",
   "metadata": {},
   "outputs": [],
   "source": []
  }
 ],
 "metadata": {
  "kernelspec": {
   "display_name": "Python 3",
   "language": "python",
   "name": "python3"
  },
  "language_info": {
   "codemirror_mode": {
    "name": "ipython",
    "version": 3
   },
   "file_extension": ".py",
   "mimetype": "text/x-python",
   "name": "python",
   "nbconvert_exporter": "python",
   "pygments_lexer": "ipython3",
   "version": "3.8.8"
  }
 },
 "nbformat": 4,
 "nbformat_minor": 5
}
