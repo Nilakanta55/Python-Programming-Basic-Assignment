{
 "cells": [
  {
   "cell_type": "markdown",
   "id": "8cf0a70f",
   "metadata": {},
   "source": [
    "### 1.\tWrite a Python Program to Add Two Matrices?"
   ]
  },
  {
   "cell_type": "code",
   "execution_count": 1,
   "id": "a4fefbde",
   "metadata": {},
   "outputs": [
    {
     "name": "stdout",
     "output_type": "stream",
     "text": [
      "[10, 10, 10]\n",
      "[10, 10, 10]\n",
      "[10, 10, 10]\n"
     ]
    }
   ],
   "source": [
    "# Program to add two matrices using nested loop\n",
    "\n",
    "X = [[1,2,3],\n",
    "\t[4 ,5,6],\n",
    "\t[7 ,8,9]]\n",
    "\n",
    "Y = [[9,8,7],\n",
    "\t[6,5,4],\n",
    "\t[3,2,1]]\n",
    "\n",
    "\n",
    "result = [[0,0,0],\n",
    "\t\t[0,0,0],\n",
    "\t\t[0,0,0]]\n",
    "\n",
    "# iterate through rows\n",
    "for i in range(len(X)):\n",
    "# iterate through columns\n",
    "\tfor j in range(len(X[0])):\n",
    "\t\tresult[i][j] = X[i][j] + Y[i][j]\n",
    "\n",
    "for r in result:\n",
    "\tprint(r)\n"
   ]
  },
  {
   "cell_type": "code",
   "execution_count": null,
   "id": "64d49f49",
   "metadata": {},
   "outputs": [],
   "source": []
  },
  {
   "cell_type": "code",
   "execution_count": null,
   "id": "b13f984c",
   "metadata": {},
   "outputs": [],
   "source": []
  },
  {
   "cell_type": "markdown",
   "id": "1fb12191",
   "metadata": {},
   "source": [
    "### 2.\tWrite a Python Program to Multiply Two Matrices?"
   ]
  },
  {
   "cell_type": "code",
   "execution_count": 2,
   "id": "ff55472f",
   "metadata": {},
   "outputs": [
    {
     "name": "stdout",
     "output_type": "stream",
     "text": [
      "[114, 160, 60, 27]\n",
      "[74, 97, 73, 14]\n",
      "[119, 157, 112, 23]\n"
     ]
    }
   ],
   "source": [
    "# Program to multiply two matrices using nested loops\n",
    "\n",
    "# take a 3x3 matrix\n",
    "A = [[12, 7, 3],\n",
    "\t[4, 5, 6],\n",
    "\t[7, 8, 9]]\n",
    "\n",
    "# take a 3x4 matrix\n",
    "B = [[5, 8, 1, 2],\n",
    "\t[6, 7, 3, 0],\n",
    "\t[4, 5, 9, 1]]\n",
    "\t\n",
    "result = [[0, 0, 0, 0],\n",
    "\t\t[0, 0, 0, 0],\n",
    "\t\t[0, 0, 0, 0]]\n",
    "\n",
    "# iterating by row of A\n",
    "for i in range(len(A)):\n",
    "\n",
    "\t# iterating by column by B\n",
    "\tfor j in range(len(B[0])):\n",
    "\n",
    "\t\t# iterating by rows of B\n",
    "\t\tfor k in range(len(B)):\n",
    "\t\t\tresult[i][j] += A[i][k] * B[k][j]\n",
    "\n",
    "for r in result:\n",
    "\tprint(r)\n"
   ]
  },
  {
   "cell_type": "code",
   "execution_count": null,
   "id": "fa855395",
   "metadata": {},
   "outputs": [],
   "source": []
  },
  {
   "cell_type": "code",
   "execution_count": null,
   "id": "64fdb357",
   "metadata": {},
   "outputs": [],
   "source": []
  },
  {
   "cell_type": "markdown",
   "id": "e2a9969a",
   "metadata": {},
   "source": [
    "### 3.\tWrite a Python Program to Transpose a Matrix?"
   ]
  },
  {
   "cell_type": "code",
   "execution_count": 3,
   "id": "1b337500",
   "metadata": {},
   "outputs": [
    {
     "name": "stdout",
     "output_type": "stream",
     "text": [
      "Result matrix is\n",
      "1  2  3  4  \n",
      "2  2  3  4  \n",
      "3  3  3  4  \n",
      "4  4  4  4  \n"
     ]
    }
   ],
   "source": [
    "# Python3 Program to find\n",
    "# transpose of a matrix\n",
    "\n",
    "N = 4\n",
    "\n",
    "# This function stores\n",
    "# transpose of A[][] in B[][]\n",
    "\n",
    "def transpose(A,B):\n",
    "\n",
    "\tfor i in range(N):\n",
    "\t\tfor j in range(N):\n",
    "\t\t\tB[i][j] = A[j][i]\n",
    "\n",
    "# driver code\n",
    "A = [ [1, 1, 1, 1],\n",
    "\t[2, 2, 2, 2],\n",
    "\t[3, 3, 3, 3],\n",
    "\t[4, 4, 4, 4]]\n",
    "\n",
    "\n",
    "B = A[:][:] # To store result\n",
    "\n",
    "transpose(A, B)\n",
    "\n",
    "print(\"Result matrix is\")\n",
    "for i in range(N):\n",
    "\tfor j in range(N):\n",
    "\t\tprint(B[i][j], \" \", end='')\n",
    "\tprint()\n",
    "\t\n",
    "# This code is contributed by Anant Agarwal.\n"
   ]
  },
  {
   "cell_type": "code",
   "execution_count": null,
   "id": "2cf6858c",
   "metadata": {},
   "outputs": [],
   "source": []
  },
  {
   "cell_type": "code",
   "execution_count": null,
   "id": "b584e5df",
   "metadata": {},
   "outputs": [],
   "source": []
  },
  {
   "cell_type": "markdown",
   "id": "36c08f6a",
   "metadata": {},
   "source": [
    "### 4.\tWrite a Python Program to Sort Words in Alphabetic Order?"
   ]
  },
  {
   "cell_type": "code",
   "execution_count": 7,
   "id": "76e1e305",
   "metadata": {},
   "outputs": [
    {
     "name": "stdout",
     "output_type": "stream",
     "text": [
      "The sorted words are:\n",
      "an\n",
      "cased\n",
      "example\n",
      "hello\n",
      "is\n",
      "letters\n",
      "this\n",
      "with\n"
     ]
    }
   ],
   "source": [
    "# Program to sort alphabetically the words form a string provided by the user\n",
    "\n",
    "my_str = \"Hello this Is an Example With cased letters\"\n",
    "\n",
    "# To take input from the user\n",
    "#my_str = input(\"Enter a string: \")\n",
    "\n",
    "# breakdown the string into a list of words\n",
    "words = [word.lower() for word in my_str.split()]\n",
    "\n",
    "# sort the list\n",
    "words.sort()\n",
    "\n",
    "# display the sorted words\n",
    "\n",
    "print(\"The sorted words are:\")\n",
    "for word in words:\n",
    "   print(word)\n"
   ]
  },
  {
   "cell_type": "code",
   "execution_count": null,
   "id": "1bddf412",
   "metadata": {},
   "outputs": [],
   "source": []
  },
  {
   "cell_type": "code",
   "execution_count": null,
   "id": "b2029871",
   "metadata": {},
   "outputs": [],
   "source": []
  },
  {
   "cell_type": "markdown",
   "id": "b479497a",
   "metadata": {},
   "source": [
    "### 5.\tWrite a Python Program to Remove Punctuation From a String?\n"
   ]
  },
  {
   "cell_type": "code",
   "execution_count": 11,
   "id": "883984f3",
   "metadata": {},
   "outputs": [
    {
     "name": "stdout",
     "output_type": "stream",
     "text": [
      "Welcome to iNeuronforgreatfuture\n"
     ]
    }
   ],
   "source": [
    "# Python program to remove punctuation from a given string\n",
    "# Function to remove punctuation\n",
    "def Punctuation(string):\n",
    "\n",
    "\t# punctuation marks\n",
    "\tpunctuations = '''!()-[]{};:'\"\\,<>./?@#$%^&*_~'''\n",
    "\n",
    "\t# traverse the given string and if any punctuation\n",
    "\t# marks occur replace it with null\n",
    "\tfor x in string.lower():\n",
    "\t\tif x in punctuations:\n",
    "\t\t\tstring = string.replace(x, \"\")\n",
    "\n",
    "\t# Print string without punctuation\n",
    "\tprint(string)\n",
    "\n",
    "# Driver program\n",
    "string = \"Welcome???@@##$ to#$% iNeuron%$^for$%^&greatfuture\"\n",
    "Punctuation(string)\n"
   ]
  },
  {
   "cell_type": "code",
   "execution_count": null,
   "id": "8ccc52c9",
   "metadata": {},
   "outputs": [],
   "source": []
  }
 ],
 "metadata": {
  "kernelspec": {
   "display_name": "Python 3",
   "language": "python",
   "name": "python3"
  },
  "language_info": {
   "codemirror_mode": {
    "name": "ipython",
    "version": 3
   },
   "file_extension": ".py",
   "mimetype": "text/x-python",
   "name": "python",
   "nbconvert_exporter": "python",
   "pygments_lexer": "ipython3",
   "version": "3.8.8"
  }
 },
 "nbformat": 4,
 "nbformat_minor": 5
}
