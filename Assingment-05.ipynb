{
 "cells": [
  {
   "cell_type": "markdown",
   "id": "8cf0a70f",
   "metadata": {},
   "source": [
    "### 1.write a Python Program to Find LCM?"
   ]
  },
  {
   "cell_type": "markdown",
   "id": "38d47dfe",
   "metadata": {},
   "source": [
    "LCM (Least Common Multiple) of two numbers is the smallest number which can be divided by both numbers. \n",
    "\n",
    "For example, LCM of 15 and 20 is 60, and LCM of 5 and 7 is 35.\n",
    "\n",
    "A simple solution is to find all prime factors of both numbers, then find union of all factors present in both numbers. Finally, return the product of elements in union.\n",
    "\n",
    "An efficient solution is based on the below formula for LCM of two numbers ‘a’ and ‘b’. \n",
    "\n",
    "   a x b = LCM(a, b) * GCD (a, b)\n",
    "\n",
    "   LCM(a, b) = (a x b) / GCD(a, b)"
   ]
  },
  {
   "cell_type": "code",
   "execution_count": 1,
   "id": "7308613a",
   "metadata": {},
   "outputs": [
    {
     "name": "stdout",
     "output_type": "stream",
     "text": [
      "LCM of 15 and 20 is 60.0\n"
     ]
    }
   ],
   "source": [
    "# Python program to find LCM of two numbers\n",
    "\n",
    "# Recursive function to return gcd of a and b\n",
    "def gcd(a,b):\n",
    "\tif a == 0:\n",
    "\t\treturn b\n",
    "\treturn gcd(b % a, a)\n",
    "\n",
    "# Function to return LCM of two numbers\n",
    "def lcm(a,b):\n",
    "\treturn (a / gcd(a,b))* b\n",
    "\n",
    "# Driver program to test above function\n",
    "a = 15\n",
    "b = 20\n",
    "print('LCM of', a, 'and', b, 'is', lcm(a, b))\n",
    "\n",
    "# This code is contributed by Danish Raza\n"
   ]
  },
  {
   "cell_type": "code",
   "execution_count": null,
   "id": "09b341e6",
   "metadata": {},
   "outputs": [],
   "source": []
  },
  {
   "cell_type": "code",
   "execution_count": null,
   "id": "6f51613c",
   "metadata": {},
   "outputs": [],
   "source": []
  },
  {
   "cell_type": "markdown",
   "id": "1fb12191",
   "metadata": {},
   "source": [
    "### 2.\tWrite a Python Program to Find HCF?"
   ]
  },
  {
   "cell_type": "markdown",
   "id": "07b4ef6d",
   "metadata": {},
   "source": [
    "The Highest Common Factor (HCF) , also called gcd, can be computed in python using a single function offered by math module and hence can make tasks easier in many situations."
   ]
  },
  {
   "cell_type": "code",
   "execution_count": 2,
   "id": "a6b4b230",
   "metadata": {},
   "outputs": [
    {
     "name": "stdout",
     "output_type": "stream",
     "text": [
      "The gcd of 60 and 48 is : 12\n"
     ]
    }
   ],
   "source": [
    "# Python code to demonstrate naive\n",
    "# method to compute gcd ( recursion )\n",
    "\n",
    "def hcfnaive(a,b):\n",
    "\tif(b==0):\n",
    "\t\treturn a\n",
    "\telse:\n",
    "\t\treturn hcfnaive(b,a%b)\n",
    "\n",
    "a = 60\n",
    "b= 48\n",
    "\n",
    "# prints 12\n",
    "print (\"The gcd of 60 and 48 is : \",end=\"\")\n",
    "print (hcfnaive(60,48))\n"
   ]
  },
  {
   "cell_type": "code",
   "execution_count": null,
   "id": "abf2b2a9",
   "metadata": {},
   "outputs": [],
   "source": []
  },
  {
   "cell_type": "code",
   "execution_count": null,
   "id": "7e528b58",
   "metadata": {},
   "outputs": [],
   "source": []
  },
  {
   "cell_type": "markdown",
   "id": "e2a9969a",
   "metadata": {},
   "source": [
    "### 3.\tWrite a Python Program to Convert Decimal to Binary, Octal and Hexadecimal?"
   ]
  },
  {
   "cell_type": "markdown",
   "id": "ddc6b278",
   "metadata": {},
   "source": [
    "In this program, you'll learn to convert decimal to binary, octal and hexadecimal, and display it.\n",
    "\n",
    "\n",
    "The decimal system is the most widely used number system. However, computers only understand binary. Binary, octal and hexadecimal number systems are closely related, and we may require to convert decimal into these systems.\n",
    "\n",
    "The decimal system is base 10 (ten symbols, 0-9, are used to represent a number) and similarly, binary is base 2, octal is base 8 and hexadecimal is base 16.\n",
    "\n",
    "A number with the prefix 0b is considered binary, 0o is considered octal and 0x as hexadecimal. For example:\n",
    "\n",
    "60 = 0b11100 = 0o74 = 0x3c"
   ]
  },
  {
   "cell_type": "code",
   "execution_count": 3,
   "id": "994d6e01",
   "metadata": {},
   "outputs": [
    {
     "name": "stdout",
     "output_type": "stream",
     "text": [
      "The decimal value of 344 is:\n",
      "0b101011000 in binary.\n",
      "0o530 in octal.\n",
      "0x158 in hexadecimal.\n"
     ]
    }
   ],
   "source": [
    "# Python program to convert decimal into other number systems\n",
    "dec = 344\n",
    "\n",
    "print(\"The decimal value of\", dec, \"is:\")\n",
    "print(bin(dec), \"in binary.\")\n",
    "print(oct(dec), \"in octal.\")\n",
    "print(hex(dec), \"in hexadecimal.\")\n"
   ]
  },
  {
   "cell_type": "markdown",
   "id": "e4c27b14",
   "metadata": {},
   "source": [
    "Note: To test the program for other decimal numbers, change the value of dec in the program.\n",
    "\n",
    "In this program, we have used built-in functions bin(), oct() and hex() to convert the given decimal number into respective number systems.\n",
    "\n",
    "These functions take an integer (in decimal) and return a string."
   ]
  },
  {
   "cell_type": "code",
   "execution_count": null,
   "id": "0b4d57a6",
   "metadata": {},
   "outputs": [],
   "source": []
  },
  {
   "cell_type": "code",
   "execution_count": null,
   "id": "6dfc01fa",
   "metadata": {},
   "outputs": [],
   "source": []
  },
  {
   "cell_type": "markdown",
   "id": "36c08f6a",
   "metadata": {},
   "source": [
    "### 4.\tWrite a Python Program To Find ASCII value of a character?"
   ]
  },
  {
   "cell_type": "markdown",
   "id": "85eb638a",
   "metadata": {},
   "source": [
    "Given a character, we need to print its ASCII value in C/C++/Java/Python.\n",
    "\n",
    "Python code using ord function : \n",
    "\n",
    "ord(): It converts the given string of length one, returns an integer representing the Unicode code point of the character. For example, ord(‘a’) returns the integer 97. "
   ]
  },
  {
   "cell_type": "code",
   "execution_count": 4,
   "id": "984be569",
   "metadata": {},
   "outputs": [
    {
     "name": "stdout",
     "output_type": "stream",
     "text": [
      "The ASCII value of 'g' is 103\n"
     ]
    }
   ],
   "source": [
    "# Python program to print\n",
    "# ASCII Value of Character\n",
    "\n",
    "# In c we can assign different\n",
    "# characters of which we want ASCII value\n",
    "\n",
    "c = 'g'\n",
    "# print the ASCII value of assigned character in c\n",
    "print(\"The ASCII value of '\" + c + \"' is\", ord(c))\n"
   ]
  },
  {
   "cell_type": "markdown",
   "id": "0e437962",
   "metadata": {},
   "source": [
    "C code: We use format specifier here to give the numeric value of character. Here %d is used to convert character to its ASCII value.\n",
    " "
   ]
  },
  {
   "cell_type": "code",
   "execution_count": null,
   "id": "cbc04f68",
   "metadata": {},
   "outputs": [],
   "source": []
  },
  {
   "cell_type": "markdown",
   "id": "b479497a",
   "metadata": {},
   "source": [
    "### 5.\tWrite a Python Program to Make a Simple Calculator with 4 basic mathematical operations?"
   ]
  },
  {
   "cell_type": "markdown",
   "id": "79ddbe1c",
   "metadata": {},
   "source": [
    "Create a simple calculator which can perform basic arithmetic operations like addition, subtraction, multiplication or division depending upon the user input.\n",
    "\n",
    "Approach :\n",
    "\n",
    "* User choose the desired operation. Options 1, 2, 3 and 4 are valid.\n",
    "* Two numbers are taken and an if…elif…else branching is used to execute a particular section.\n",
    "* Using functions add(), subtract(), multiply() and divide() evaluate respective operations.\n"
   ]
  },
  {
   "cell_type": "code",
   "execution_count": 5,
   "id": "a9a83c6b",
   "metadata": {},
   "outputs": [
    {
     "name": "stdout",
     "output_type": "stream",
     "text": [
      "Please select operation -\n",
      "1. Add\n",
      "2. Subtract\n",
      "3. Multiply\n",
      "4. Divide\n",
      "\n",
      "Select operations form 1, 2, 3, 4 :16\n",
      "Enter first number: 19\n",
      "Enter second number: 16\n",
      "Invalid input\n"
     ]
    }
   ],
   "source": [
    "# Python program for simple calculator\n",
    "\n",
    "# Function to add two numbers\n",
    "def add(num1, num2):\n",
    "\treturn num1 + num2\n",
    "\n",
    "# Function to subtract two numbers\n",
    "def subtract(num1, num2):\n",
    "\treturn num1 - num2\n",
    "\n",
    "# Function to multiply two numbers\n",
    "def multiply(num1, num2):\n",
    "\treturn num1 * num2\n",
    "\n",
    "# Function to divide two numbers\n",
    "def divide(num1, num2):\n",
    "\treturn num1 / num2\n",
    "\n",
    "print(\"Please select operation -\\n\" \\\n",
    "\t\t\"1. Add\\n\" \\\n",
    "\t\t\"2. Subtract\\n\" \\\n",
    "\t\t\"3. Multiply\\n\" \\\n",
    "\t\t\"4. Divide\\n\")\n",
    "\n",
    "\n",
    "# Take input from the user\n",
    "select = int(input(\"Select operations form 1, 2, 3, 4 :\"))\n",
    "\n",
    "number_1 = int(input(\"Enter first number: \"))\n",
    "number_2 = int(input(\"Enter second number: \"))\n",
    "\n",
    "if select == 1:\n",
    "\tprint(number_1, \"+\", number_2, \"=\",\n",
    "\t\t\t\t\tadd(number_1, number_2))\n",
    "\n",
    "elif select == 2:\n",
    "\tprint(number_1, \"-\", number_2, \"=\",\n",
    "\t\t\t\t\tsubtract(number_1, number_2))\n",
    "\n",
    "elif select == 3:\n",
    "\tprint(number_1, \"*\", number_2, \"=\",\n",
    "\t\t\t\t\tmultiply(number_1, number_2))\n",
    "\n",
    "elif select == 4:\n",
    "\tprint(number_1, \"/\", number_2, \"=\",\n",
    "\t\t\t\t\tdivide(number_1, number_2))\n",
    "else:\n",
    "\tprint(\"Invalid input\")\n"
   ]
  },
  {
   "cell_type": "code",
   "execution_count": null,
   "id": "8e875889",
   "metadata": {},
   "outputs": [],
   "source": []
  },
  {
   "cell_type": "code",
   "execution_count": null,
   "id": "8ccc52c9",
   "metadata": {},
   "outputs": [],
   "source": []
  }
 ],
 "metadata": {
  "kernelspec": {
   "display_name": "Python 3",
   "language": "python",
   "name": "python3"
  },
  "language_info": {
   "codemirror_mode": {
    "name": "ipython",
    "version": 3
   },
   "file_extension": ".py",
   "mimetype": "text/x-python",
   "name": "python",
   "nbconvert_exporter": "python",
   "pygments_lexer": "ipython3",
   "version": "3.8.8"
  }
 },
 "nbformat": 4,
 "nbformat_minor": 5
}
