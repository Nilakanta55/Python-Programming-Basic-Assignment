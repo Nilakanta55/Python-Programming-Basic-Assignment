{
 "cells": [
  {
   "cell_type": "markdown",
   "id": "8cf0a70f",
   "metadata": {},
   "source": [
    "### 1.\tWrite a Python program to find words which are greater than given length k?"
   ]
  },
  {
   "cell_type": "code",
   "execution_count": 1,
   "id": "7308613a",
   "metadata": {},
   "outputs": [
    {
     "name": "stdout",
     "output_type": "stream",
     "text": [
      "['iNeuron', 'Happy', 'Learing']\n"
     ]
    }
   ],
   "source": [
    "# Python program to find all string\n",
    "# which are greater than given length k\n",
    "\n",
    "# function find string greater than length k\n",
    "def string_k(k, str):\n",
    "\t\n",
    "\t# create the empty string\n",
    "\tstring = []\n",
    "\t\n",
    "\t# split the string where space is comes\n",
    "\ttext = str.split(\" \")\n",
    "\t\n",
    "\t# iterate the loop till every substring\n",
    "\tfor x in text:\n",
    "\t\t\n",
    "\t\t# if length of current sub string\n",
    "\t\t# is greater than k then\n",
    "\t\tif len(x) > k:\n",
    "\t\t\t\n",
    "\t\t\t# append this sub string in\n",
    "\t\t\t# string list\n",
    "\t\t\tstring.append(x)\n",
    "\t\t\t\n",
    "\t# return string list\n",
    "\treturn string\n",
    "\n",
    "\n",
    "# Driver Program\t\n",
    "k = 3\n",
    "str =\"iNeuron for Happy Learing\"\n",
    "print(string_k(k, str))\n"
   ]
  },
  {
   "cell_type": "code",
   "execution_count": null,
   "id": "5d0ad8a3",
   "metadata": {},
   "outputs": [],
   "source": []
  },
  {
   "cell_type": "code",
   "execution_count": null,
   "id": "a30d1f71",
   "metadata": {},
   "outputs": [],
   "source": []
  },
  {
   "cell_type": "markdown",
   "id": "1fb12191",
   "metadata": {},
   "source": [
    "### 2.\tWrite a Python program for removing i-th character from a string?"
   ]
  },
  {
   "cell_type": "code",
   "execution_count": 2,
   "id": "ff55472f",
   "metadata": {},
   "outputs": [
    {
     "name": "stdout",
     "output_type": "stream",
     "text": [
      "iNeurn for Happy Learing\n"
     ]
    }
   ],
   "source": [
    "# Python3 program for removing i-th\n",
    "# indexed character from a string\n",
    "\n",
    "# Removes character at index i\n",
    "def remove(string, i):\n",
    "\n",
    "\t# Characters before the i-th indexed\n",
    "\t# is stored in a variable a\n",
    "\ta = string[ : i]\n",
    "\t\n",
    "\t# Characters after the nth indexed\n",
    "\t# is stored in a variable b\n",
    "\tb = string[i + 1: ]\n",
    "\t\n",
    "\t# Returning string after removing\n",
    "\t# nth indexed character.\n",
    "\treturn a + b\n",
    "\t\n",
    "# Driver Code\n",
    "if __name__ == '__main__':\n",
    "\t\n",
    "\tstring = \"iNeuron for Happy Learing\"\n",
    "\t\n",
    "\t# Remove nth index element\n",
    "\ti = 5\n",
    "\t\n",
    "\t# Print the new string\n",
    "\tprint(remove(string, i))\n"
   ]
  },
  {
   "cell_type": "code",
   "execution_count": null,
   "id": "2a02e498",
   "metadata": {},
   "outputs": [],
   "source": []
  },
  {
   "cell_type": "code",
   "execution_count": null,
   "id": "76cc5e5a",
   "metadata": {},
   "outputs": [],
   "source": []
  },
  {
   "cell_type": "markdown",
   "id": "e2a9969a",
   "metadata": {},
   "source": [
    "### 3.\tWrite a Python program to split and join a string?"
   ]
  },
  {
   "cell_type": "code",
   "execution_count": 4,
   "id": "1b337500",
   "metadata": {},
   "outputs": [
    {
     "name": "stdout",
     "output_type": "stream",
     "text": [
      "['iNeuron', 'for', 'Happy', 'Learing']\n",
      "iNeuron-for-Happy-Learing\n"
     ]
    }
   ],
   "source": [
    "# Python program to split a string and\n",
    "# join it using different delimiter\n",
    "\n",
    "def split_string(string):\n",
    "\n",
    "\t# Split the string based on space delimiter\n",
    "\tlist_string = string.split(' ')\n",
    "\t\n",
    "\treturn list_string\n",
    "\n",
    "def join_string(list_string):\n",
    "\n",
    "\t# Join the string based on '-' delimiter\n",
    "\tstring = '-'.join(list_string)\n",
    "\t\n",
    "\treturn string\n",
    "\n",
    "# Driver Function\n",
    "if __name__ == '__main__':\n",
    "\tstring = 'iNeuron for Happy Learing'\n",
    "\t\n",
    "\t# Splitting a string\n",
    "\tlist_string = split_string(string)\n",
    "\tprint(list_string)\n",
    "\n",
    "\t# Join list of strings into one\n",
    "\tnew_string = join_string(list_string)\n",
    "\tprint(new_string)\n"
   ]
  },
  {
   "cell_type": "code",
   "execution_count": null,
   "id": "68a6d0fb",
   "metadata": {},
   "outputs": [],
   "source": []
  },
  {
   "cell_type": "code",
   "execution_count": null,
   "id": "eaceab2a",
   "metadata": {},
   "outputs": [],
   "source": []
  },
  {
   "cell_type": "markdown",
   "id": "36c08f6a",
   "metadata": {},
   "source": [
    "### 4.\tWrite a Python to check if a given string is binary string or not?"
   ]
  },
  {
   "cell_type": "code",
   "execution_count": 5,
   "id": "6ec2aa35",
   "metadata": {},
   "outputs": [
    {
     "name": "stdout",
     "output_type": "stream",
     "text": [
      "Yes\n"
     ]
    }
   ],
   "source": [
    "# Python program to check\n",
    "# if a string is binary or not\n",
    "\n",
    "# function for checking the\n",
    "# string is accepted or not\n",
    "def check(string) :\n",
    "\n",
    "\t# set function convert string\n",
    "\t# into set of characters .\n",
    "\tp = set(string)\n",
    "\n",
    "\t# declare set of '0', '1' .\n",
    "\ts = {'0', '1'}\n",
    "\n",
    "\t# check set p is same as set s\n",
    "\t# or set p contains only '0'\n",
    "\t# or set p contains only '1'\n",
    "\t# or not, if any one condition\n",
    "\t# is true then string is accepted\n",
    "\t# otherwise not .\n",
    "\tif s == p or p == {'0'} or p == {'1'}:\n",
    "\t\tprint(\"Yes\")\n",
    "\telse :\n",
    "\t\tprint(\"No\")\n",
    "\n",
    "\n",
    "\t\t\n",
    "# driver code\n",
    "if __name__ == \"__main__\" :\n",
    "\n",
    "\tstring = \"101010000111\"\n",
    "\n",
    "\t# function calling\n",
    "\tcheck(string)\n"
   ]
  },
  {
   "cell_type": "code",
   "execution_count": null,
   "id": "ef767997",
   "metadata": {},
   "outputs": [],
   "source": []
  },
  {
   "cell_type": "code",
   "execution_count": null,
   "id": "f92af59a",
   "metadata": {},
   "outputs": [],
   "source": []
  },
  {
   "cell_type": "markdown",
   "id": "b479497a",
   "metadata": {},
   "source": [
    "### 5.\tWrite a Python program to find uncommon words from two Strings?"
   ]
  },
  {
   "cell_type": "code",
   "execution_count": 6,
   "id": "3480bd26",
   "metadata": {},
   "outputs": [
    {
     "name": "stdout",
     "output_type": "stream",
     "text": [
      "['iNeuron', 'for', 'Happy', 'Learing', 'Learning', 'from', 'iNeuron\\u200b.ai']\n"
     ]
    }
   ],
   "source": [
    "# Python3 program to find a list of uncommon words\n",
    "\n",
    "# Function to return all uncommon words\n",
    "def UncommonWords(A, B):\n",
    "\n",
    "\t# count will contain all the word counts\n",
    "\tcount = {}\n",
    "\t\n",
    "\t# insert words of string A to hash\n",
    "\tfor word in A.split():\n",
    "\t\tcount[word] = count.get(word, 0) + 1\n",
    "\t\n",
    "\t# insert words of string B to hash\n",
    "\tfor word in B.split():\n",
    "\t\tcount[word] = count.get(word, 0) + 1\n",
    "\n",
    "\t# return required list of words\n",
    "\treturn [word for word in count if count[word] == 1]\n",
    "\n",
    "# Driver Code\n",
    "A = \"iNeuron for Happy Learing\"\n",
    "B = \"Learning from iNeuron​.ai\"\n",
    "\n",
    "# Print required answer\n",
    "print(UncommonWords(A, B))\n"
   ]
  },
  {
   "cell_type": "code",
   "execution_count": null,
   "id": "1f8157fe",
   "metadata": {},
   "outputs": [],
   "source": []
  },
  {
   "cell_type": "code",
   "execution_count": null,
   "id": "f64c083b",
   "metadata": {},
   "outputs": [],
   "source": []
  },
  {
   "cell_type": "markdown",
   "id": "a8bbb8c6",
   "metadata": {},
   "source": [
    "### 6.\tWrite a Python to find all duplicate characters in string?"
   ]
  },
  {
   "cell_type": "code",
   "execution_count": 12,
   "id": "cb0f8949",
   "metadata": {},
   "outputs": [
    {
     "name": "stdout",
     "output_type": "stream",
     "text": [
      "i e r o n   a p "
     ]
    }
   ],
   "source": [
    "## initializing string\n",
    "string = \"iNeuron for Happy Learing\"\n",
    "## initializing a dictionary\n",
    "duplicates = {}\n",
    "for char in string:\n",
    "   ## checking whether the char is already present in dictionary or not\n",
    "   if char in duplicates:\n",
    "      ## increasing count if present\n",
    "      duplicates[char] += 1\n",
    "   else:\n",
    "      ## initializing count to 1 if not present\n",
    "      duplicates[char] = 1\n",
    "for key, value in duplicates.items():\n",
    "   if value > 1:\n",
    "      print(key, end = \" \")"
   ]
  },
  {
   "cell_type": "markdown",
   "id": "e0264113",
   "metadata": {},
   "source": [
    "### 7.\tWrite a Python Program to check if a string contains any special character?"
   ]
  },
  {
   "cell_type": "code",
   "execution_count": 15,
   "id": "1fdafca9",
   "metadata": {},
   "outputs": [
    {
     "name": "stdout",
     "output_type": "stream",
     "text": [
      "String is accepted\n"
     ]
    }
   ],
   "source": [
    "# Python3 program to check if a string\n",
    "# contains any special character\n",
    "\n",
    "# import required package\n",
    "import re\n",
    "\n",
    "# Function checks if the string\n",
    "# contains any special character\n",
    "def run(string):\n",
    "\n",
    "\t# Make own character set and pass\n",
    "\t# this as argument in compile method\n",
    "\tregex = re.compile('[@_!#$%^&*()<>?/\\|}{~:]')\n",
    "\t\n",
    "\t# Pass the string in search\n",
    "\t# method of regex object.\t\n",
    "\tif(regex.search(string) == None):\n",
    "\t\tprint(\"String is accepted\")\n",
    "\t\t\n",
    "\telse:\n",
    "\t\tprint(\"String is not accepted.\")\n",
    "\t\n",
    "\n",
    "# Driver Code\n",
    "if __name__ == '__main__' :\n",
    "\t\n",
    "\t# Enter the string\n",
    "\tstring = \"iNeuron for Happy Learing\"\n",
    "\t\n",
    "\t# calling run function\n",
    "\trun(string)\n"
   ]
  },
  {
   "cell_type": "code",
   "execution_count": null,
   "id": "ccf44b58",
   "metadata": {},
   "outputs": [],
   "source": []
  },
  {
   "cell_type": "code",
   "execution_count": null,
   "id": "39335adc",
   "metadata": {},
   "outputs": [],
   "source": []
  }
 ],
 "metadata": {
  "kernelspec": {
   "display_name": "Python 3",
   "language": "python",
   "name": "python3"
  },
  "language_info": {
   "codemirror_mode": {
    "name": "ipython",
    "version": 3
   },
   "file_extension": ".py",
   "mimetype": "text/x-python",
   "name": "python",
   "nbconvert_exporter": "python",
   "pygments_lexer": "ipython3",
   "version": "3.8.8"
  }
 },
 "nbformat": 4,
 "nbformat_minor": 5
}
