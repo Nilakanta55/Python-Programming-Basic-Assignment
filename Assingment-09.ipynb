{
 "cells": [
  {
   "cell_type": "markdown",
   "id": "8cf0a70f",
   "metadata": {},
   "source": [
    "### 1.\tWrite a Python program to check if the given number is a Disarium Number?"
   ]
  },
  {
   "cell_type": "code",
   "execution_count": 4,
   "id": "865f2b2a",
   "metadata": {},
   "outputs": [
    {
     "name": "stdout",
     "output_type": "stream",
     "text": [
      "\n",
      "Is 25 is Disarium number? False\n",
      "\n",
      "Is 89 is Disarium number? True\n",
      "\n",
      "Is 75 is Disarium number? False\n",
      "\n",
      "Is 125 is Disarium number? False\n",
      "\n",
      "Is 518 is Disarium number? True\n"
     ]
    }
   ],
   "source": [
    "def is_disarium(num):\n",
    "    temp = 0\n",
    "    for i in range(len(str(num))):\n",
    "        temp += int(str(num)[i]) ** (i + 1)\n",
    "    return temp == num\n",
    "\n",
    "num = 25\n",
    "print(\"\\nIs\",num,\"is Disarium number?\",is_disarium(num))\n",
    "num = 89\n",
    "print(\"\\nIs\",num,\"is Disarium number?\",is_disarium(num))\n",
    "num = 75\n",
    "print(\"\\nIs\",num,\"is Disarium number?\",is_disarium(num))\n",
    "num = 125\n",
    "print(\"\\nIs\",num,\"is Disarium number?\",is_disarium(num)) \n",
    "num = 518\n",
    "print(\"\\nIs\",num,\"is Disarium number?\",is_disarium(num))\n"
   ]
  },
  {
   "cell_type": "code",
   "execution_count": null,
   "id": "35d0917e",
   "metadata": {},
   "outputs": [],
   "source": []
  },
  {
   "cell_type": "markdown",
   "id": "1fb12191",
   "metadata": {},
   "source": [
    "### 2.\tWrite a Python program to print all disarium numbers between 1 to 100?"
   ]
  },
  {
   "cell_type": "code",
   "execution_count": 5,
   "id": "ff55472f",
   "metadata": {},
   "outputs": [
    {
     "name": "stdout",
     "output_type": "stream",
     "text": [
      "The disarium numbers between 1 and 100 are : \n",
      "1\n",
      "2\n",
      "3\n",
      "4\n",
      "5\n",
      "6\n",
      "7\n",
      "8\n",
      "9\n",
      "89\n"
     ]
    }
   ],
   "source": [
    "def length_calculation(my_val):\n",
    "   len_val = 0\n",
    "   while(my_val != 0):\n",
    "      len_val = len_val + 1\n",
    "      my_val = my_val//10\n",
    "   return len_val\n",
    "def digit_sum(my_num):\n",
    "   remaining = sum_val = 0\n",
    "   len_fun = length_calculation(my_num)\n",
    "   while(my_num > 0):\n",
    "      remaining = my_num%10\n",
    "      sum_val = sum_val + (remaining**len_fun)\n",
    "      my_num = my_num//10\n",
    "      len_fun = len_fun - 1\n",
    "   return sum_val\n",
    "ini_result = 0\n",
    "print(\"The disarium numbers between 1 and 100 are : \")\n",
    "for i in range(1, 101):\n",
    "   ini_result = digit_sum(i)\n",
    "   if(ini_result == i):\n",
    "      print(i)"
   ]
  },
  {
   "cell_type": "code",
   "execution_count": null,
   "id": "31b4a841",
   "metadata": {},
   "outputs": [],
   "source": []
  },
  {
   "cell_type": "code",
   "execution_count": null,
   "id": "99bf1dab",
   "metadata": {},
   "outputs": [],
   "source": []
  },
  {
   "cell_type": "markdown",
   "id": "e2a9969a",
   "metadata": {},
   "source": [
    "### 3.\tWrite a Python program to check if the given number is Happy Number?"
   ]
  },
  {
   "cell_type": "markdown",
   "id": "c743ad79",
   "metadata": {},
   "source": [
    "A number is called happy if it leads to 1 after a sequence of steps wherein each step number is replaced by the sum of squares of its digit that is if we start with Happy Number and keep replacing it with digits square sum, we reach 1. "
   ]
  },
  {
   "cell_type": "code",
   "execution_count": 6,
   "id": "953d3587",
   "metadata": {},
   "outputs": [],
   "source": [
    "# method return true if n is Happy Number\n",
    "# numSquareSum method is given in below detailed code snippet\n",
    "def isHappyNumber(n):\n",
    "\tst=set()\n",
    "\twhile (1):\n",
    "\t\tn = numSquareSum(n)\n",
    "\t\tif (n == 1):\n",
    "\t\t\treturn True\n",
    "\t\tif n not in st:\n",
    "\t\t\treturn False\n",
    "\t\tst.insert(n)\n"
   ]
  },
  {
   "cell_type": "code",
   "execution_count": 7,
   "id": "d9228805",
   "metadata": {},
   "outputs": [
    {
     "name": "stdout",
     "output_type": "stream",
     "text": [
      "13 is a Happy number\n"
     ]
    }
   ],
   "source": [
    "# Python3 program to check a number\n",
    "# is a Happy number or not\n",
    "\n",
    "# Utility method to return\n",
    "# sum of square of digit of n\n",
    "def numSquareSum(n):\n",
    "\tsquareSum = 0;\n",
    "\twhile(n):\n",
    "\t\tsquareSum += (n % 10) * (n % 10);\n",
    "\t\tn = int(n / 10);\n",
    "\treturn squareSum;\n",
    "\n",
    "# method return true if\n",
    "# n is Happy number\n",
    "def isHappynumber(n):\n",
    "\n",
    "\t# initialize slow\n",
    "\t# and fast by n\n",
    "\tslow = n;\n",
    "\tfast = n;\n",
    "\twhile(True):\n",
    "\t\t\n",
    "\t\t# move slow number\n",
    "\t\t# by one iteration\n",
    "\t\tslow = numSquareSum(slow);\n",
    "\n",
    "\t\t# move fast number\n",
    "\t\t# by two iteration\n",
    "\t\tfast = numSquareSum(numSquareSum(fast));\n",
    "\t\tif(slow != fast):\n",
    "\t\t\tcontinue;\n",
    "\t\telse:\n",
    "\t\t\tbreak;\n",
    "\n",
    "\t# if both number meet at 1,\n",
    "\t# then return true\n",
    "\treturn (slow == 1);\n",
    "\n",
    "# Driver Code\n",
    "n = 13;\n",
    "if (isHappynumber(n)):\n",
    "\tprint(n , \"is a Happy number\");\n",
    "else:\n",
    "\tprint(n , \"is not a Happy number\");\n",
    "\n",
    "# This code is contributed by mits\n"
   ]
  },
  {
   "cell_type": "code",
   "execution_count": null,
   "id": "28af1e53",
   "metadata": {},
   "outputs": [],
   "source": []
  },
  {
   "cell_type": "code",
   "execution_count": null,
   "id": "a020c75b",
   "metadata": {},
   "outputs": [],
   "source": []
  },
  {
   "cell_type": "markdown",
   "id": "36c08f6a",
   "metadata": {},
   "source": [
    "### 4.\tWrite a Python program to print all happy numbers between 1 and 100?"
   ]
  },
  {
   "cell_type": "code",
   "execution_count": 8,
   "id": "43ad7359",
   "metadata": {},
   "outputs": [
    {
     "name": "stdout",
     "output_type": "stream",
     "text": [
      "Enter the number (upper limit): 100\n",
      "1\n",
      "7\n",
      "10\n",
      "13\n",
      "19\n",
      "23\n",
      "28\n",
      "31\n",
      "32\n",
      "44\n",
      "49\n",
      "68\n",
      "70\n",
      "79\n",
      "82\n",
      "86\n",
      "91\n",
      "94\n",
      "97\n",
      "100\n"
     ]
    }
   ],
   "source": [
    "limit = int(input(\"Enter the number (upper limit): \"))\n",
    "\n",
    "for i in range(1, limit + 1):\n",
    "    num = i  # num to check\n",
    "    sum = 0  # reset sum\n",
    "    while (sum != 1 and sum != 4):\n",
    "        sum = 0\n",
    "        while (num > 0):\n",
    "            temp = num % 10\n",
    "            sum += (temp * temp)\n",
    "            num = num // 10\n",
    "        num = sum\n",
    "    if (sum == 1):\n",
    "        print(i)  # print if no. is Happy"
   ]
  },
  {
   "cell_type": "code",
   "execution_count": null,
   "id": "98e4636a",
   "metadata": {},
   "outputs": [],
   "source": []
  },
  {
   "cell_type": "code",
   "execution_count": null,
   "id": "6ec2aa35",
   "metadata": {},
   "outputs": [],
   "source": []
  },
  {
   "cell_type": "markdown",
   "id": "b479497a",
   "metadata": {},
   "source": [
    "### 5.\tWrite a Python program to determine whether the given number is a Harshad Number?"
   ]
  },
  {
   "cell_type": "markdown",
   "id": "07bc58b4",
   "metadata": {},
   "source": [
    "An integer number in base 10 which is divisible by the sum of its digits is said to be a Harshad Number. An n-harshad number is an integer number divisible by the sum of its digit in base n.\n",
    "Below are the first few Harshad Numbers represented in base 10:\n",
    "1, 2, 3, 4, 5, 6, 7, 8, 9, 10, 12, 18, 20………\n",
    "Given a number in base 10, our task is to check if it is a Harshad Number or not."
   ]
  },
  {
   "cell_type": "code",
   "execution_count": 9,
   "id": "f171fa30",
   "metadata": {},
   "outputs": [
    {
     "name": "stdout",
     "output_type": "stream",
     "text": [
      "Yes\n",
      "No\n"
     ]
    }
   ],
   "source": [
    "# Python program to check\n",
    "# if a number is Harshad\n",
    "# Number or not.\n",
    "\n",
    "def checkHarshad( n ) :\n",
    "\tsum = 0\n",
    "\ttemp = n\n",
    "\twhile temp > 0 :\n",
    "\t\tsum = sum + temp % 10\n",
    "\t\ttemp = temp // 10\n",
    "\t# Return true if sum of\n",
    "\t# digits is multiple of n\n",
    "\treturn n % sum == 0\n",
    "\n",
    "# Driver Code\n",
    "if(checkHarshad(12)) : print(\"Yes\")\n",
    "else : print (\"No\")\n",
    "\n",
    "if (checkHarshad(15)) : print(\"Yes\")\n",
    "else : print (\"No\")\n",
    "\t\n",
    "# This code is contributed\n",
    "# by Nikita Tiwari\n"
   ]
  },
  {
   "cell_type": "markdown",
   "id": "a8bbb8c6",
   "metadata": {},
   "source": [
    "### 6.\tWrite a Python program to print all pronic numbers between 1 and 100?"
   ]
  },
  {
   "cell_type": "code",
   "execution_count": 1,
   "id": "8ccc52c9",
   "metadata": {},
   "outputs": [
    {
     "name": "stdout",
     "output_type": "stream",
     "text": [
      "Enter the Minimum Pronic Number = 1\n",
      "Enter the Maximum Pronic Number = 100\n",
      "\n",
      "The List of Pronic Numbers from 1 and 100\n",
      "2   6   12   20   30   42   56   72   90   "
     ]
    }
   ],
   "source": [
    "def checkPronic(Number):\n",
    "    flag = 0\n",
    "    for i in range(Number + 1):\n",
    "        if Number == i * (i + 1):\n",
    "            flag = 1\n",
    "            break\n",
    "    return flag\n",
    "\n",
    "minPro = int(input(\"Enter the Minimum Pronic Number = \"))\n",
    "maxPro = int(input(\"Enter the Maximum Pronic Number = \"))\n",
    "\n",
    "print(\"\\nThe List of Pronic Numbers from {0} and {1}\".format(minPro, maxPro)) \n",
    "for i in range(minPro, maxPro):\n",
    "    if(checkPronic(i) == 1):\n",
    "        print(i, end = '   ')"
   ]
  },
  {
   "cell_type": "code",
   "execution_count": null,
   "id": "1f7849bc",
   "metadata": {},
   "outputs": [],
   "source": []
  },
  {
   "cell_type": "code",
   "execution_count": null,
   "id": "7dae1622",
   "metadata": {},
   "outputs": [],
   "source": []
  }
 ],
 "metadata": {
  "kernelspec": {
   "display_name": "Python 3",
   "language": "python",
   "name": "python3"
  },
  "language_info": {
   "codemirror_mode": {
    "name": "ipython",
    "version": 3
   },
   "file_extension": ".py",
   "mimetype": "text/x-python",
   "name": "python",
   "nbconvert_exporter": "python",
   "pygments_lexer": "ipython3",
   "version": "3.8.8"
  }
 },
 "nbformat": 4,
 "nbformat_minor": 5
}
